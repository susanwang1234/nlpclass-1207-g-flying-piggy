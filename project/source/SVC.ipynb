{
 "cells": [
  {
   "cell_type": "markdown",
   "metadata": {},
   "source": [
    "### Support Vector Classifier is our baseline approach. In this notebook, we implement SVC with scikit-learn first, and then improve the model by balancing the weight of each feature."
   ]
  },
  {
   "cell_type": "code",
   "execution_count": 1,
   "metadata": {
    "_cell_guid": "ef06cd19-66b6-46bc-bf45-184e12d3f7d4",
    "_uuid": "cca038ca9424a3f66e10262fc9129de807b5f855"
   },
   "outputs": [],
   "source": [
    "import pandas as pd\n",
    "import numpy as np\n",
    "from sklearn.linear_model import LogisticRegression\n",
    "from sklearn.feature_extraction.text import TfidfVectorizer, CountVectorizer\n",
    "from sklearn import svm\n",
    "from tqdm.notebook import tqdm\n",
    "from sklearn.metrics import log_loss\n",
    "from sklearn.metrics import precision_score, recall_score, accuracy_score"
   ]
  },
  {
   "cell_type": "markdown",
   "metadata": {},
   "source": [
    "## Import data"
   ]
  },
  {
   "cell_type": "code",
   "execution_count": 2,
   "metadata": {
    "_cell_guid": "a494f561-0c2f-4a38-8973-6b60c22da357",
    "_uuid": "f70ebe669fcf6b434c595cf6fb7a76120bf7809c"
   },
   "outputs": [],
   "source": [
    "train = pd.read_csv('../data/train.csv')\n",
    "test = pd.read_csv('../data/test.csv')"
   ]
  },
  {
   "cell_type": "code",
   "execution_count": 3,
   "metadata": {
    "_cell_guid": "5ddb337b-c9b2-4fec-9652-cb26769dc3c6",
    "_uuid": "5f5269c56ea6ded273881b0d4dcdb6af83a3e089",
    "scrolled": true
   },
   "outputs": [],
   "source": [
    "train.head()\n",
    "labels = ['toxic', 'severe_toxic', 'obscene', 'threat', 'insult', 'identity_hate']"
   ]
  },
  {
   "cell_type": "code",
   "execution_count": 4,
   "metadata": {},
   "outputs": [
    {
     "data": {
      "text/plain": [
       "(159571, 8)"
      ]
     },
     "execution_count": 4,
     "metadata": {},
     "output_type": "execute_result"
    }
   ],
   "source": [
    "train.shape"
   ]
  },
  {
   "cell_type": "code",
   "execution_count": 5,
   "metadata": {
    "scrolled": true
   },
   "outputs": [
    {
     "data": {
      "text/plain": [
       "159571"
      ]
     },
     "execution_count": 5,
     "metadata": {},
     "output_type": "execute_result"
    }
   ],
   "source": [
    "len(train)"
   ]
  },
  {
   "cell_type": "markdown",
   "metadata": {
    "_cell_guid": "480780f1-00c0-4f9a-81e5-fc1932516a80",
    "_uuid": "f2e77e8e6df5e29b620c7a2a0add1438c35af932"
   },
   "source": [
    "## Train the model and Predict"
   ]
  },
  {
   "cell_type": "code",
   "execution_count": 6,
   "metadata": {
    "_cell_guid": "31ad6c98-d054-426c-b3bd-b3b18f52eb6f",
    "_uuid": "75f3f27d56fb2d7d539e65c292d9e77c92ceead3"
   },
   "outputs": [],
   "source": [
    "vec = TfidfVectorizer()\n",
    "#vec = CountVectorizer(max_features = 100)\n",
    "train_tokens = vec.fit_transform(train['comment_text'])\n",
    "test_tokens = vec.transform(test['comment_text'])"
   ]
  },
  {
   "cell_type": "code",
   "execution_count": 7,
   "metadata": {
    "scrolled": false
   },
   "outputs": [
    {
     "data": {
      "text/plain": [
       "scipy.sparse.csr.csr_matrix"
      ]
     },
     "execution_count": 7,
     "metadata": {},
     "output_type": "execute_result"
    }
   ],
   "source": [
    "from scipy.sparse import vstack\n",
    "global_tokens = vstack([train_tokens, test_tokens])\n",
    "type(global_tokens)"
   ]
  },
  {
   "cell_type": "code",
   "execution_count": 8,
   "metadata": {
    "scrolled": true
   },
   "outputs": [
    {
     "data": {
      "text/plain": [
       "array([[ 0.14655425, -0.00943179,  0.06249038, ...,  0.04152141,\n",
       "         0.03615843, -0.07199262],\n",
       "       [ 0.04475741,  0.00396638,  0.01562694, ..., -0.01601854,\n",
       "        -0.00874285,  0.08677488],\n",
       "       [ 0.29084021, -0.03439296, -0.02764026, ...,  0.01745265,\n",
       "         0.0749654 ,  0.01187452],\n",
       "       ...,\n",
       "       [ 0.1502339 , -0.02335908, -0.02185975, ..., -0.0210672 ,\n",
       "        -0.0533792 , -0.01538401],\n",
       "       [ 0.20815742, -0.07998206, -0.00303758, ..., -0.02195973,\n",
       "         0.02791193,  0.06944285],\n",
       "       [ 0.20122179,  0.10389378, -0.07572752, ..., -0.0202595 ,\n",
       "        -0.00221558, -0.01148191]])"
      ]
     },
     "execution_count": 8,
     "metadata": {},
     "output_type": "execute_result"
    }
   ],
   "source": [
    "from sklearn.decomposition import TruncatedSVD\n",
    "svd = TruncatedSVD(n_components=20)\n",
    "svd.fit(global_tokens)\n",
    "global_svd = svd.transform(global_tokens)\n",
    "global_svd"
   ]
  },
  {
   "cell_type": "code",
   "execution_count": 9,
   "metadata": {},
   "outputs": [],
   "source": [
    "train_svd = global_svd[:len(train)]\n",
    "test_svd = global_svd[len(train):]"
   ]
  },
  {
   "cell_type": "code",
   "execution_count": 11,
   "metadata": {
    "_cell_guid": "33fd5f8c-adfc-45a1-9fde-1769a0993e76",
    "_uuid": "0fa103b5406aabdc36ea9ef21612d343e4982fc4",
    "scrolled": false
   },
   "outputs": [
    {
     "data": {
      "application/vnd.jupyter.widget-view+json": {
       "model_id": "a1c584337b46488c87a2dd159ab16557",
       "version_major": 2,
       "version_minor": 0
      },
      "text/plain": [
       "HBox(children=(FloatProgress(value=1.0, bar_style='info', max=1.0), HTML(value='')))"
      ]
     },
     "metadata": {},
     "output_type": "display_data"
    },
    {
     "name": "stdout",
     "output_type": "stream",
     "text": [
      "Training toxic\n",
      "Training severe_toxic\n",
      "Training obscene\n",
      "Training threat\n",
      "Training insult\n",
      "Training identity_hate\n",
      "\n"
     ]
    }
   ],
   "source": [
    "predict_on_test = np.zeros((len(test), len(labels)))\n",
    "predict_on_train = np.zeros((len(train), len(labels)))\n",
    "for idx, label in tqdm(enumerate(labels)):\n",
    "    print(\"Training %s\"%(label))\n",
    "    m = svm.SVC(probability=True).fit(train_svd, train[label])\n",
    "    predict_on_test[:,idx] = m.predict_proba(test_svd)[:,1]\n",
    "    predict_on_train[:,idx] = m.predict_proba(train_svd)[:,1]"
   ]
  },
  {
   "cell_type": "code",
   "execution_count": 12,
   "metadata": {
    "scrolled": true
   },
   "outputs": [
    {
     "data": {
      "text/plain": [
       "array([[1.        , 0.01036816, 0.99999932, 0.00208316, 0.92923518,\n",
       "        0.01385652],\n",
       "       [0.05755422, 0.01017601, 0.0165532 , 0.00276266, 0.03387279,\n",
       "        0.00860415],\n",
       "       [0.03701674, 0.01059011, 0.01638785, 0.00220871, 0.03300015,\n",
       "        0.01107108],\n",
       "       ...,\n",
       "       [0.02440495, 0.01006069, 0.00790497, 0.00273203, 0.03440999,\n",
       "        0.01002481],\n",
       "       [0.0856967 , 0.01027075, 0.03652905, 0.00227341, 0.05930911,\n",
       "        0.01080503],\n",
       "       [0.10860994, 0.01014905, 0.00768946, 0.00261936, 0.01947976,\n",
       "        0.01046815]])"
      ]
     },
     "execution_count": 12,
     "metadata": {},
     "output_type": "execute_result"
    }
   ],
   "source": [
    "predict_on_test"
   ]
  },
  {
   "cell_type": "markdown",
   "metadata": {},
   "source": [
    "## Evaluation"
   ]
  },
  {
   "cell_type": "code",
   "execution_count": 20,
   "metadata": {
    "scrolled": false
   },
   "outputs": [
    {
     "data": {
      "application/vnd.jupyter.widget-view+json": {
       "model_id": "b68f85ac78b544489f8c9f1a5db85f77",
       "version_major": 2,
       "version_minor": 0
      },
      "text/plain": [
       "HBox(children=(FloatProgress(value=1.0, bar_style='info', max=1.0), HTML(value='')))"
      ]
     },
     "metadata": {},
     "output_type": "display_data"
    },
    {
     "name": "stdout",
     "output_type": "stream",
     "text": [
      "toxic class\n",
      "Log loss: 0.19116\n",
      "ROC_AUC_score: 0.89167\n",
      "\n",
      "severe_toxic class\n",
      "Log loss: 0.05195\n",
      "ROC_AUC_score: 0.94475\n",
      "\n",
      "obscene class\n",
      "Log loss: 0.10859\n",
      "ROC_AUC_score: 0.92721\n",
      "\n",
      "threat class\n",
      "Log loss: 0.02164\n",
      "ROC_AUC_score: 0.02533\n",
      "\n",
      "insult class\n",
      "Log loss: 0.13186\n",
      "ROC_AUC_score: 0.90078\n",
      "\n",
      "identity_hate class\n",
      "Log loss: 0.04771\n",
      "ROC_AUC_score: 0.95326\n",
      "\n",
      "\n"
     ]
    }
   ],
   "source": [
    "from sklearn.metrics import log_loss, accuracy_score, roc_auc_score\n",
    "for idx, label in tqdm(enumerate(labels)):\n",
    "    print(\"%s class\"%(label))\n",
    "    loss_score = log_loss(train[label], predict_on_train[:,idx])\n",
    "    score = roc_auc_score(train[label], predict_on_train[:,idx])\n",
    "    print(\"Log loss: %.5f\"%(loss_score))\n",
    "    print(\"ROC_AUC_score: %.5f\"%(score))\n",
    "    print(\"\")"
   ]
  },
  {
   "cell_type": "markdown",
   "metadata": {
    "_cell_guid": "1a99c4d9-916f-4189-9a25-fedcb7700336",
    "_uuid": "5525045116474e6d12b6edc890250d30c0790f06"
   },
   "source": [
    "## Output csv file"
   ]
  },
  {
   "cell_type": "code",
   "execution_count": 22,
   "metadata": {
    "_cell_guid": "bc6a4575-fbbb-47ea-81ac-91fa702dc194",
    "_uuid": "5dd033a93e6cf32cdbdaa0a8b05cd8d27de2b21d"
   },
   "outputs": [],
   "source": [
    "out = pd.concat([test[\"id\"], pd.DataFrame(predict_on_test)], axis=1, ignore_index = True)\n",
    "output_columns = ['id', 'toxic', 'severe_toxic', 'obscene', 'threat', 'insult', 'identity_hate']\n",
    "out.columns = output_columns\n",
    "submission_file = open(\"../output/submission_svc_imbalanced.csv\", \"w\")\n",
    "out.to_csv('../output/submission_svc_imbalanced.csv', index = False)\n",
    "submission_file.close()"
   ]
  },
  {
   "cell_type": "markdown",
   "metadata": {},
   "source": [
    "#### Kaggle score = 0.73786"
   ]
  },
  {
   "cell_type": "markdown",
   "metadata": {},
   "source": [
    "# Improvement"
   ]
  },
  {
   "cell_type": "markdown",
   "metadata": {},
   "source": [
    "## Balance the weight between classes"
   ]
  },
  {
   "cell_type": "code",
   "execution_count": 10,
   "metadata": {
    "scrolled": true
   },
   "outputs": [
    {
     "data": {
      "application/vnd.jupyter.widget-view+json": {
       "model_id": "4984923f89a8487391ae8f920ef5f648",
       "version_major": 2,
       "version_minor": 0
      },
      "text/plain": [
       "HBox(children=(FloatProgress(value=1.0, bar_style='info', max=1.0), HTML(value='')))"
      ]
     },
     "metadata": {},
     "output_type": "display_data"
    },
    {
     "name": "stdout",
     "output_type": "stream",
     "text": [
      "Training toxic\n",
      "Training severe_toxic\n",
      "Training obscene\n",
      "Training threat\n",
      "Training insult\n",
      "Training identity_hate\n",
      "\n"
     ]
    }
   ],
   "source": [
    "predict_on_test = np.zeros((len(test), len(labels)))\n",
    "predict_on_train = np.zeros((len(train), len(labels)))\n",
    "for idx, label in tqdm(enumerate(labels)):\n",
    "    print(\"Training %s\"%(label))\n",
    "    #m = LogisticRegression().fit(train_svd, train[label])\n",
    "    m = svm.SVC(probability=True, class_weight='balanced').fit(train_svd, train[label])\n",
    "    predict_on_test[:,idx] = m.predict_proba(test_svd)[:,1]\n",
    "    predict_on_train[:,idx] = m.predict_proba(train_svd)[:,1]"
   ]
  },
  {
   "cell_type": "code",
   "execution_count": 11,
   "metadata": {},
   "outputs": [
    {
     "data": {
      "application/vnd.jupyter.widget-view+json": {
       "model_id": "cd9b747f59254101a7ff46f3c6430a18",
       "version_major": 2,
       "version_minor": 0
      },
      "text/plain": [
       "HBox(children=(FloatProgress(value=1.0, bar_style='info', max=1.0), HTML(value='')))"
      ]
     },
     "metadata": {},
     "output_type": "display_data"
    },
    {
     "name": "stdout",
     "output_type": "stream",
     "text": [
      "toxic class\n",
      "Log loss: 0.17157\n",
      "ROC_AUC_score: 0.93789\n",
      "\n",
      "severe_toxic class\n",
      "Log loss: 0.03519\n",
      "ROC_AUC_score: 0.98279\n",
      "\n",
      "obscene class\n",
      "Log loss: 0.09680\n",
      "ROC_AUC_score: 0.96701\n",
      "\n",
      "threat class\n",
      "Log loss: 0.01693\n",
      "ROC_AUC_score: 0.98425\n",
      "\n",
      "insult class\n",
      "Log loss: 0.11012\n",
      "ROC_AUC_score: 0.95741\n",
      "\n",
      "identity_hate class\n",
      "Log loss: 0.04230\n",
      "ROC_AUC_score: 0.96166\n",
      "\n",
      "\n"
     ]
    }
   ],
   "source": [
    "from sklearn.metrics import log_loss, accuracy_score, roc_auc_score\n",
    "for idx, label in tqdm(enumerate(labels)):\n",
    "    print(\"%s class\"%(label))\n",
    "    loss_score = log_loss(train[label], predict_on_train[:,idx])\n",
    "    score = roc_auc_score(train[label], predict_on_train[:,idx])\n",
    "    print(\"Log loss: %.5f\"%(loss_score))\n",
    "    print(\"ROC_AUC_score: %.5f\"%(score))\n",
    "    print(\"\")"
   ]
  },
  {
   "cell_type": "code",
   "execution_count": 13,
   "metadata": {},
   "outputs": [],
   "source": [
    "out = pd.concat([test[\"id\"], pd.DataFrame(predict_on_test)], axis=1, ignore_index = True)\n",
    "output_columns = ['id', 'toxic', 'severe_toxic', 'obscene', 'threat', 'insult', 'identity_hate']\n",
    "out.columns = output_columns\n",
    "submission_file = open(\"../output/submission_svc_balanced.csv\", \"w\")\n",
    "out.to_csv('../output/submission_svc_balanced.csv', index = False)\n",
    "submission_file.close()"
   ]
  },
  {
   "cell_type": "markdown",
   "metadata": {},
   "source": [
    "#### Kaggle score = 0.91595"
   ]
  }
 ],
 "metadata": {
  "kernelspec": {
   "display_name": "Python 3",
   "language": "python",
   "name": "python3"
  },
  "language_info": {
   "codemirror_mode": {
    "name": "ipython",
    "version": 3
   },
   "file_extension": ".py",
   "mimetype": "text/x-python",
   "name": "python",
   "nbconvert_exporter": "python",
   "pygments_lexer": "ipython3",
   "version": "3.8.1"
  }
 },
 "nbformat": 4,
 "nbformat_minor": 1
}
