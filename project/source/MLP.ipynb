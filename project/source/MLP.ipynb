{
 "cells": [
  {
   "cell_type": "code",
   "execution_count": 1,
   "metadata": {},
   "outputs": [],
   "source": [
    "import pandas as pd\n",
    "import numpy as np\n",
    "from keras.preprocessing.text import Tokenizer\n",
    "from keras.preprocessing.sequence import pad_sequences\n",
    "from keras import layers\n",
    "from keras import models\n",
    "from keras import optimizers"
   ]
  },
  {
   "cell_type": "code",
   "execution_count": 2,
   "metadata": {},
   "outputs": [],
   "source": [
    "train = pd.read_csv('../data/train.csv')\n",
    "test = pd.read_csv('../data/test.csv')"
   ]
  },
  {
   "cell_type": "code",
   "execution_count": 3,
   "metadata": {},
   "outputs": [],
   "source": [
    "labels = ['toxic', 'severe_toxic', 'obscene', 'threat', 'insult', 'identity_hate']\n",
    "train_labels = train[labels].values"
   ]
  },
  {
   "cell_type": "code",
   "execution_count": 20,
   "metadata": {},
   "outputs": [],
   "source": [
    "examples = pd.DataFrame([\"I love you\", \"You suck\", \"You are idiot\"])\n",
    "examples.columns = [\"comment_text\"]"
   ]
  },
  {
   "cell_type": "code",
   "execution_count": 4,
   "metadata": {},
   "outputs": [],
   "source": [
    "# Parameters\n",
    "embed_size = 100\n",
    "max_features = 20000\n",
    "MAX_SEQUENCE_LENGTH = 100\n",
    "EPOCH = 5\n",
    "BATCH_SIZE = 32"
   ]
  },
  {
   "cell_type": "code",
   "execution_count": 21,
   "metadata": {},
   "outputs": [],
   "source": [
    "tokenizer = Tokenizer(num_words = max_features)\n",
    "tokenizer.fit_on_texts(list(train['comment_text']))\n",
    "train_input = pad_sequences(tokenizer.texts_to_sequences(train['comment_text']), maxlen = MAX_SEQUENCE_LENGTH)\n",
    "test_input = pad_sequences(tokenizer.texts_to_sequences(test['comment_text']), maxlen = MAX_SEQUENCE_LENGTH)\n",
    "examples_input = pad_sequences(tokenizer.texts_to_sequences(examples['comment_text']), maxlen = MAX_SEQUENCE_LENGTH)"
   ]
  },
  {
   "cell_type": "code",
   "execution_count": 6,
   "metadata": {},
   "outputs": [
    {
     "name": "stderr",
     "output_type": "stream",
     "text": [
      "[nltk_data] Downloading package stopwords to\n",
      "[nltk_data]     C:\\Users\\HUAWEI\\AppData\\Roaming\\nltk_data...\n",
      "[nltk_data]   Package stopwords is already up-to-date!\n"
     ]
    },
    {
     "data": {
      "text/plain": [
       "True"
      ]
     },
     "execution_count": 6,
     "metadata": {},
     "output_type": "execute_result"
    }
   ],
   "source": [
    "import nltk\n",
    "nltk.download('stopwords')"
   ]
  },
  {
   "cell_type": "code",
   "execution_count": 7,
   "metadata": {},
   "outputs": [
    {
     "name": "stderr",
     "output_type": "stream",
     "text": [
      "E:\\Anaconda\\lib\\site-packages\\ipykernel_launcher.py:15: FutureWarning: arrays to stack must be passed as a \"sequence\" type such as list or tuple. Support for non-sequence iterables such as generators is deprecated as of NumPy 1.16 and will raise an error in the future.\n",
      "  from ipykernel import kernelapp as app\n"
     ]
    }
   ],
   "source": [
    "# Reference: https://stackoverflow.com/questions/37793118/load-pretrained-glove-vectors-in-python\n",
    "from nltk.corpus import stopwords\n",
    "EMBEDDING_FILE = '../data/glove.6B.100d.txt'\n",
    "def get_coefs(word,*arr):\n",
    "    return word, np.asarray(arr, dtype = 'float32')\n",
    "\n",
    "def remove_stopwords(old_dict):\n",
    "    for key in stopwords.words():\n",
    "        if key in old_dict.keys():\n",
    "            del old_dict[key]\n",
    "    return old_dict\n",
    "    \n",
    "embedding_index = dict(get_coefs(*o.strip().split()) for o in open(EMBEDDING_FILE,encoding=\"utf8\"))\n",
    "\n",
    "all_embs = np.stack(embedding_index.values())\n",
    "emb_mean,emb_std = all_embs.mean(), all_embs.std()\n",
    "\n",
    "word_index = tokenizer.word_index\n",
    "word_index_without_sw = remove_stopwords(word_index)\n",
    "num_words = min(max_features, len(word_index))\n",
    "embedding_matrix = np.random.normal(emb_mean, emb_std, (num_words, embed_size))\n",
    "i = 0\n",
    "for word in word_index_without_sw.keys():\n",
    "    if i >= num_words: \n",
    "        break\n",
    "    if word in embedding_index.keys():\n",
    "        embedding_matrix[i] = embedding_index[word]\n",
    "    i += 1"
   ]
  },
  {
   "cell_type": "code",
   "execution_count": 8,
   "metadata": {},
   "outputs": [
    {
     "name": "stdout",
     "output_type": "stream",
     "text": [
      "Model: \"sequential\"\n",
      "_________________________________________________________________\n",
      "Layer (type)                 Output Shape              Param #   \n",
      "=================================================================\n",
      "embedding (Embedding)        (None, 100, 100)          2000000   \n",
      "_________________________________________________________________\n",
      "global_max_pooling1d (Global (None, 100)               0         \n",
      "_________________________________________________________________\n",
      "dense (Dense)                (None, 100)               10100     \n",
      "_________________________________________________________________\n",
      "dense_1 (Dense)              (None, 100)               10100     \n",
      "_________________________________________________________________\n",
      "dense_2 (Dense)              (None, 100)               10100     \n",
      "_________________________________________________________________\n",
      "dense_3 (Dense)              (None, 6)                 606       \n",
      "=================================================================\n",
      "Total params: 2,030,906\n",
      "Trainable params: 2,030,906\n",
      "Non-trainable params: 0\n",
      "_________________________________________________________________\n"
     ]
    }
   ],
   "source": [
    "model = models.Sequential()\n",
    "model.add(layers.Input(shape = (MAX_SEQUENCE_LENGTH,)))\n",
    "model.add(layers.Embedding(max_features, embed_size, weights=[embedding_matrix]))\n",
    "model.add(layers.GlobalMaxPool1D())\n",
    "model.add(layers.Dense(100, activation = \"relu\"))\n",
    "model.add(layers.Dense(100, activation = \"relu\"))\n",
    "model.add(layers.Dense(100, activation = \"relu\"))\n",
    "model.add(layers.Dense(6, activation = \"sigmoid\"))\n",
    "\n",
    "model.summary()\n",
    "opt = optimizers.Adam(learning_rate=0.0005)\n",
    "model.compile(optimizer = opt, loss = \"binary_crossentropy\", metrics = [\"accuracy\"])\n"
   ]
  },
  {
   "cell_type": "code",
   "execution_count": 9,
   "metadata": {
    "scrolled": true
   },
   "outputs": [
    {
     "name": "stdout",
     "output_type": "stream",
     "text": [
      "Epoch 1/5\n",
      "3990/3990 [==============================] - 86s 22ms/step - loss: 0.0955 - accuracy: 0.9821 - val_loss: 0.0739 - val_accuracy: 0.9941\n",
      "Epoch 2/5\n",
      "3990/3990 [==============================] - 92s 23ms/step - loss: 0.0611 - accuracy: 0.9936 - val_loss: 0.0615 - val_accuracy: 0.9941\n",
      "Epoch 3/5\n",
      "3990/3990 [==============================] - 92s 23ms/step - loss: 0.0506 - accuracy: 0.9918 - val_loss: 0.0574 - val_accuracy: 0.9941\n",
      "Epoch 4/5\n",
      "3990/3990 [==============================] - 93s 23ms/step - loss: 0.0446 - accuracy: 0.9936 - val_loss: 0.0590 - val_accuracy: 0.9941\n",
      "Epoch 5/5\n",
      "3990/3990 [==============================] - 93s 23ms/step - loss: 0.0404 - accuracy: 0.9874 - val_loss: 0.0595 - val_accuracy: 0.9939\n"
     ]
    }
   ],
   "source": [
    "history = model.fit(train_input, train_labels, batch_size = BATCH_SIZE, epochs = EPOCH, validation_split = 0.2)"
   ]
  },
  {
   "cell_type": "code",
   "execution_count": 27,
   "metadata": {},
   "outputs": [
    {
     "data": {
      "image/png": "[encoded data removed]",
      "text/plain": [
       "<Figure size 432x288 with 1 Axes>"
      ]
     },
     "metadata": {
      "needs_background": "light"
     },
     "output_type": "display_data"
    }
   ],
   "source": [
    "#Reference: https://towardsdatascience.com/machine-learning-recurrent-neural-networks-and-long-short-term-memory-lstm-python-keras-example-86001ceaaebc\n",
    "import matplotlib.pyplot as plt\n",
    "plt.clf()\n",
    "loss = history.history['loss']\n",
    "val_loss = history.history['val_loss']\n",
    "epochs = range(1, len(loss) + 1)\n",
    "plt.plot(epochs, loss, 'g', label='Training loss')\n",
    "plt.plot(epochs, val_loss, 'y', label='Validation loss')\n",
    "plt.title('Training and validation loss')\n",
    "plt.xlabel('Epochs')\n",
    "plt.ylabel('Loss')\n",
    "plt.legend()\n",
    "plt.show()"
   ]
  },
  {
   "cell_type": "code",
   "execution_count": 11,
   "metadata": {},
   "outputs": [
    {
     "data": {
      "image/png": "[encoded data removed]",
      "text/plain": [
       "<Figure size 432x288 with 1 Axes>"
      ]
     },
     "metadata": {
      "needs_background": "light"
     },
     "output_type": "display_data"
    }
   ],
   "source": [
    "plt.clf()\n",
    "acc = history.history['accuracy']\n",
    "val_acc = history.history['val_accuracy']\n",
    "plt.plot(epochs, acc, 'g', label='Training accuracy')\n",
    "plt.plot(epochs, val_acc, 'y', label='Validation accuracy')\n",
    "plt.title('Training and validation accuracy')\n",
    "plt.xlabel('Epochs')\n",
    "plt.ylabel('Accuracy')\n",
    "plt.legend()\n",
    "plt.show()"
   ]
  },
  {
   "cell_type": "code",
   "execution_count": 12,
   "metadata": {},
   "outputs": [],
   "source": [
    "predict_on_test = model.predict(test_input)"
   ]
  },
  {
   "cell_type": "code",
   "execution_count": 13,
   "metadata": {},
   "outputs": [],
   "source": [
    "out = pd.concat([test[\"id\"], pd.DataFrame(predict_on_test)], axis=1, ignore_index = True)\n",
    "output_columns = ['id', 'toxic', 'severe_toxic', 'obscene', 'threat', 'insult', 'identity_hate']\n",
    "out.columns = output_columns\n",
    "submission_file = open(\"../output/submission_MLP.csv\", \"w\")\n",
    "out.to_csv('../output/submission_MLP.csv', index = False)\n",
    "submission_file.close()"
   ]
  },
  {
   "cell_type": "code",
   "execution_count": 14,
   "metadata": {},
   "outputs": [
    {
     "data": {
      "text/html": [
       "<div>\n",
       "<style scoped>\n",
       "    .dataframe tbody tr th:only-of-type {\n",
       "        vertical-align: middle;\n",
       "    }\n",
       "\n",
       "    .dataframe tbody tr th {\n",
       "        vertical-align: top;\n",
       "    }\n",
       "\n",
       "    .dataframe thead th {\n",
       "        text-align: right;\n",
       "    }\n",
       "</style>\n",
       "<table border=\"1\" class=\"dataframe\">\n",
       "  <thead>\n",
       "    <tr style=\"text-align: right;\">\n",
       "      <th></th>\n",
       "      <th>id</th>\n",
       "      <th>toxic</th>\n",
       "      <th>severe_toxic</th>\n",
       "      <th>obscene</th>\n",
       "      <th>threat</th>\n",
       "      <th>insult</th>\n",
       "      <th>identity_hate</th>\n",
       "    </tr>\n",
       "  </thead>\n",
       "  <tbody>\n",
       "    <tr>\n",
       "      <td>0</td>\n",
       "      <td>00001cee341fdb12</td>\n",
       "      <td>0.998175</td>\n",
       "      <td>2.278652e-01</td>\n",
       "      <td>0.925310</td>\n",
       "      <td>1.469482e-01</td>\n",
       "      <td>0.891245</td>\n",
       "      <td>3.391344e-01</td>\n",
       "    </tr>\n",
       "    <tr>\n",
       "      <td>1</td>\n",
       "      <td>0000247867823ef7</td>\n",
       "      <td>0.000195</td>\n",
       "      <td>3.276327e-09</td>\n",
       "      <td>0.000015</td>\n",
       "      <td>7.815319e-07</td>\n",
       "      <td>0.000012</td>\n",
       "      <td>1.799684e-06</td>\n",
       "    </tr>\n",
       "    <tr>\n",
       "      <td>2</td>\n",
       "      <td>00013b17ad220c46</td>\n",
       "      <td>0.000033</td>\n",
       "      <td>2.591831e-10</td>\n",
       "      <td>0.000003</td>\n",
       "      <td>1.078626e-07</td>\n",
       "      <td>0.000002</td>\n",
       "      <td>2.253952e-07</td>\n",
       "    </tr>\n",
       "    <tr>\n",
       "      <td>3</td>\n",
       "      <td>00017563c3f7919a</td>\n",
       "      <td>0.000048</td>\n",
       "      <td>5.429896e-10</td>\n",
       "      <td>0.000007</td>\n",
       "      <td>8.027645e-08</td>\n",
       "      <td>0.000004</td>\n",
       "      <td>6.836982e-07</td>\n",
       "    </tr>\n",
       "    <tr>\n",
       "      <td>4</td>\n",
       "      <td>00017695ad8997eb</td>\n",
       "      <td>0.000403</td>\n",
       "      <td>1.435239e-08</td>\n",
       "      <td>0.000044</td>\n",
       "      <td>2.442738e-06</td>\n",
       "      <td>0.000029</td>\n",
       "      <td>8.725211e-06</td>\n",
       "    </tr>\n",
       "  </tbody>\n",
       "</table>\n",
       "</div>"
      ],
      "text/plain": [
       "                 id     toxic  severe_toxic   obscene        threat    insult  \\\n",
       "0  00001cee341fdb12  0.998175  2.278652e-01  0.925310  1.469482e-01  0.891245   \n",
       "1  0000247867823ef7  0.000195  3.276327e-09  0.000015  7.815319e-07  0.000012   \n",
       "2  00013b17ad220c46  0.000033  2.591831e-10  0.000003  1.078626e-07  0.000002   \n",
       "3  00017563c3f7919a  0.000048  5.429896e-10  0.000007  8.027645e-08  0.000004   \n",
       "4  00017695ad8997eb  0.000403  1.435239e-08  0.000044  2.442738e-06  0.000029   \n",
       "\n",
       "   identity_hate  \n",
       "0   3.391344e-01  \n",
       "1   1.799684e-06  \n",
       "2   2.253952e-07  \n",
       "3   6.836982e-07  \n",
       "4   8.725211e-06  "
      ]
     },
     "execution_count": 14,
     "metadata": {},
     "output_type": "execute_result"
    }
   ],
   "source": [
    "out.head()"
   ]
  },
  {
   "cell_type": "code",
   "execution_count": 25,
   "metadata": {},
   "outputs": [
    {
     "data": {
      "text/html": [
       "<div>\n",
       "<style scoped>\n",
       "    .dataframe tbody tr th:only-of-type {\n",
       "        vertical-align: middle;\n",
       "    }\n",
       "\n",
       "    .dataframe tbody tr th {\n",
       "        vertical-align: top;\n",
       "    }\n",
       "\n",
       "    .dataframe thead th {\n",
       "        text-align: right;\n",
       "    }\n",
       "</style>\n",
       "<table border=\"1\" class=\"dataframe\">\n",
       "  <thead>\n",
       "    <tr style=\"text-align: right;\">\n",
       "      <th></th>\n",
       "      <th>comment_text</th>\n",
       "      <th>toxic</th>\n",
       "      <th>severe_toxic</th>\n",
       "      <th>obscene</th>\n",
       "      <th>threat</th>\n",
       "      <th>insult</th>\n",
       "      <th>identity_hate</th>\n",
       "    </tr>\n",
       "  </thead>\n",
       "  <tbody>\n",
       "    <tr>\n",
       "      <td>0</td>\n",
       "      <td>I love you</td>\n",
       "      <td>0.054322</td>\n",
       "      <td>0.000195</td>\n",
       "      <td>0.004439</td>\n",
       "      <td>0.003223</td>\n",
       "      <td>0.020316</td>\n",
       "      <td>0.001866</td>\n",
       "    </tr>\n",
       "    <tr>\n",
       "      <td>1</td>\n",
       "      <td>You suck</td>\n",
       "      <td>0.999665</td>\n",
       "      <td>0.353211</td>\n",
       "      <td>0.981600</td>\n",
       "      <td>0.002664</td>\n",
       "      <td>0.842352</td>\n",
       "      <td>0.049637</td>\n",
       "    </tr>\n",
       "    <tr>\n",
       "      <td>2</td>\n",
       "      <td>You are idiot</td>\n",
       "      <td>0.998914</td>\n",
       "      <td>0.035857</td>\n",
       "      <td>0.781053</td>\n",
       "      <td>0.003399</td>\n",
       "      <td>0.922430</td>\n",
       "      <td>0.005506</td>\n",
       "    </tr>\n",
       "  </tbody>\n",
       "</table>\n",
       "</div>"
      ],
      "text/plain": [
       "    comment_text     toxic  severe_toxic   obscene    threat    insult  \\\n",
       "0     I love you  0.054322      0.000195  0.004439  0.003223  0.020316   \n",
       "1       You suck  0.999665      0.353211  0.981600  0.002664  0.842352   \n",
       "2  You are idiot  0.998914      0.035857  0.781053  0.003399  0.922430   \n",
       "\n",
       "   identity_hate  \n",
       "0       0.001866  \n",
       "1       0.049637  \n",
       "2       0.005506  "
      ]
     },
     "execution_count": 25,
     "metadata": {},
     "output_type": "execute_result"
    }
   ],
   "source": [
    "predict_on_examples = model.predict(examples_input)\n",
    "exmaples_out = pd.concat([examples[\"comment_text\"], pd.DataFrame(predict_on_examples)], axis=1, ignore_index = True)\n",
    "exmaples_out.columns = ['comment_text', 'toxic', 'severe_toxic', 'obscene', 'threat', 'insult', 'identity_hate']\n",
    "exmaples_out"
   ]
  },
  {
   "cell_type": "code",
   "execution_count": null,
   "metadata": {},
   "outputs": [],
   "source": []
  },
  {
   "cell_type": "code",
   "execution_count": null,
   "metadata": {},
   "outputs": [],
   "source": []
  }
 ],
 "metadata": {
  "kernelspec": {
   "display_name": "Python 3",
   "language": "python",
   "name": "python3"
  },
  "language_info": {
   "codemirror_mode": {
    "name": "ipython",
    "version": 3
   },
   "file_extension": ".py",
   "mimetype": "text/x-python",
   "name": "python",
   "nbconvert_exporter": "python",
   "pygments_lexer": "ipython3",
   "version": "3.7.4"
  }
 },
 "nbformat": 4,
 "nbformat_minor": 2
}
